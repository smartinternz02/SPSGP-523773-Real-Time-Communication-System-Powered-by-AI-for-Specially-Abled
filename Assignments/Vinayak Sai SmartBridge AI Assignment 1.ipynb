{
 "cells": [
  {
   "cell_type": "code",
   "execution_count": 1,
   "id": "214f50c6",
   "metadata": {},
   "outputs": [
    {
     "name": "stdout",
     "output_type": "stream",
     "text": [
      "   Feature 1  Feature 2  Feature 3  Feature 4\n",
      "0  -0.165287   0.375322   0.034058   0.131824\n",
      "1   0.418186  -1.089269   0.459842   1.177166\n",
      "2  -1.813214  -1.105938  -0.350632  -1.066447\n",
      "3   0.494826  -1.019870   1.194206  -1.317683\n"
     ]
    }
   ],
   "source": [
    "# N Vinayak Sai (20BCR7048)\n",
    "# Q1) Create a pandas dataframe (DataFrame name as 'df') with numpy random values (4 features and 4 observation)\n",
    "import numpy as np\n",
    "import pandas as pd\n",
    "\n",
    "# Create a NumPy array with random values\n",
    "data = np.random.randn(4, 4)\n",
    "\n",
    "# Create the DataFrame\n",
    "df = pd.DataFrame(data, columns=['Feature 1', 'Feature 2', 'Feature 3', 'Feature 4'])\n",
    "\n",
    "# Print the DataFrame\n",
    "print(df)"
   ]
  },
  {
   "cell_type": "code",
   "execution_count": 2,
   "id": "68839137",
   "metadata": {},
   "outputs": [
    {
     "name": "stdout",
     "output_type": "stream",
     "text": [
      "   Random value 1  Random value 2  Random value 3  Random value 4\n",
      "0       -0.165287        0.375322        0.034058        0.131824\n",
      "1        0.418186       -1.089269        0.459842        1.177166\n",
      "2       -1.813214       -1.105938       -0.350632       -1.066447\n",
      "3        0.494826       -1.019870        1.194206       -1.317683\n"
     ]
    }
   ],
   "source": [
    "# Q2) Rename the task - 1 'df' dataframe column names to 'Random value 1', 'Random value 2', 'Random value 3' & 'Random value 4\n",
    "\n",
    "# Rename column names\n",
    "new_column_names = ['Random value 1', 'Random value 2', 'Random value 3', 'Random value 4']\n",
    "df.columns = new_column_names\n",
    "\n",
    "print(df)"
   ]
  },
  {
   "cell_type": "code",
   "execution_count": 3,
   "id": "b52d1a0a",
   "metadata": {},
   "outputs": [
    {
     "name": "stdout",
     "output_type": "stream",
     "text": [
      "       Random value 1  Random value 2  Random value 3  Random value 4\n",
      "count        4.000000        4.000000        4.000000        4.000000\n",
      "mean        -0.266372       -0.709939        0.334368       -0.268785\n",
      "std          1.072533        0.724467        0.661936        1.152926\n",
      "min         -1.813214       -1.105938       -0.350632       -1.317683\n",
      "25%         -0.577269       -1.093437       -0.062114       -1.129256\n",
      "50%          0.126450       -1.054570        0.246950       -0.467311\n",
      "75%          0.437346       -0.671072        0.643433        0.393160\n",
      "max          0.494826        0.375322        1.194206        1.177166\n"
     ]
    }
   ],
   "source": [
    "# Q3) Find the descriptive statistics of the 'df' dataframe.\n",
    "\n",
    "# Calculate descriptive statistics\n",
    "df_statistics = df.describe()\n",
    "\n",
    "print(df_statistics)"
   ]
  },
  {
   "cell_type": "code",
   "execution_count": 4,
   "id": "f4e80528",
   "metadata": {},
   "outputs": [
    {
     "name": "stdout",
     "output_type": "stream",
     "text": [
      "Null Values:\n",
      "Random value 1    0\n",
      "Random value 2    0\n",
      "Random value 3    0\n",
      "Random value 4    0\n",
      "dtype: int64\n",
      "\n",
      "Data Types:\n",
      "Random value 1    float64\n",
      "Random value 2    float64\n",
      "Random value 3    float64\n",
      "Random value 4    float64\n",
      "dtype: object\n"
     ]
    }
   ],
   "source": [
    "# Q4) Check for the null values in 'df' and find the data type of the columns\n",
    "\n",
    "# Check for null values\n",
    "null_values = df.isnull().sum()\n",
    "\n",
    "# Find data types of columns\n",
    "column_data_types = df.dtypes\n",
    "\n",
    "print(\"Null Values:\")\n",
    "print(null_values)\n",
    "print(\"\\nData Types:\")\n",
    "print(column_data_types)"
   ]
  },
  {
   "cell_type": "code",
   "execution_count": 5,
   "id": "5db2636b",
   "metadata": {},
   "outputs": [
    {
     "name": "stdout",
     "output_type": "stream",
     "text": [
      "Columns using loc[]:\n",
      "   Random value 2  Random value 3\n",
      "0        0.375322        0.034058\n",
      "1       -1.089269        0.459842\n",
      "2       -1.105938       -0.350632\n",
      "3       -1.019870        1.194206\n",
      "\n",
      "Columns using iloc[]:\n",
      "   Random value 2  Random value 3\n",
      "0        0.375322        0.034058\n",
      "1       -1.089269        0.459842\n",
      "2       -1.105938       -0.350632\n",
      "3       -1.019870        1.194206\n"
     ]
    }
   ],
   "source": [
    "# Q5) Display the 'Random value 2' & 'Random value 3' columns with location method and index location method.\n",
    "\n",
    "# Display columns using the location method (loc[])\n",
    "columns_loc = df.loc[:, ['Random value 2', 'Random value 3']]\n",
    "print(\"Columns using loc[]:\")\n",
    "print(columns_loc)\n",
    "\n",
    "# Display columns using the index location method (iloc[])\n",
    "column_indices = [1, 2]  # Column indices for 'Random value 2' and 'Random value 3'\n",
    "columns_iloc = df.iloc[:, column_indices]\n",
    "print(\"\\nColumns using iloc[]:\")\n",
    "print(columns_iloc)"
   ]
  },
  {
   "cell_type": "code",
   "execution_count": null,
   "id": "f392bfe7",
   "metadata": {},
   "outputs": [],
   "source": []
  }
 ],
 "metadata": {
  "kernelspec": {
   "display_name": "Python 3 (ipykernel)",
   "language": "python",
   "name": "python3"
  },
  "language_info": {
   "codemirror_mode": {
    "name": "ipython",
    "version": 3
   },
   "file_extension": ".py",
   "mimetype": "text/x-python",
   "name": "python",
   "nbconvert_exporter": "python",
   "pygments_lexer": "ipython3",
   "version": "3.9.13"
  }
 },
 "nbformat": 4,
 "nbformat_minor": 5
}
